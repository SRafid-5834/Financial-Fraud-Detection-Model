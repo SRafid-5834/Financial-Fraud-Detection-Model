{
 "cells": [
  {
   "cell_type": "code",
   "execution_count": 44,
   "id": "fba955c2",
   "metadata": {},
   "outputs": [
    {
     "name": "stdout",
     "output_type": "stream",
     "text": [
      "Requirement already satisfied: xgboost in c:\\users\\hp\\anaconda3\\lib\\site-packages (2.1.4)\n",
      "Requirement already satisfied: scipy in c:\\users\\hp\\anaconda3\\lib\\site-packages (from xgboost) (1.6.2)\n",
      "Requirement already satisfied: numpy in c:\\users\\hp\\anaconda3\\lib\\site-packages (from xgboost) (1.20.1)\n"
     ]
    }
   ],
   "source": [
    "!pip install xgboost"
   ]
  },
  {
   "cell_type": "code",
   "execution_count": 1,
   "id": "4bd44ad2",
   "metadata": {},
   "outputs": [],
   "source": [
    "import pandas as pd\n",
    "import numpy as np\n",
    "import matplotlib.pyplot as plt\n",
    "import seaborn as sns\n",
    "from sklearn.preprocessing import LabelEncoder, StandardScaler\n",
    "from sklearn.model_selection import train_test_split\n",
    "from sklearn.ensemble import RandomForestClassifier\n",
    "from sklearn.neighbors import KNeighborsClassifier\n",
    "# from sklearn.svm import SVC\n",
    "from xgboost import XGBClassifier\n",
    "from sklearn.metrics import (accuracy_score, precision_score, recall_score, \n",
    "                            f1_score, classification_report, confusion_matrix,\n",
    "                            roc_auc_score, precision_recall_curve, auc)\n",
    "\n",
    "# Setting s random seed\n",
    "RANDOM_STATE = 42"
   ]
  },
  {
   "cell_type": "code",
   "execution_count": 2,
   "id": "86abaeef",
   "metadata": {},
   "outputs": [],
   "source": [
    "df = pd.read_csv(\"Synthetic_Financial_datasets_log.csv\")"
   ]
  },
  {
   "cell_type": "code",
   "execution_count": 3,
   "id": "b02f2b37",
   "metadata": {},
   "outputs": [
    {
     "data": {
      "text/plain": [
       "(6362620, 11)"
      ]
     },
     "execution_count": 3,
     "metadata": {},
     "output_type": "execute_result"
    }
   ],
   "source": [
    "df.shape"
   ]
  },
  {
   "cell_type": "code",
   "execution_count": 4,
   "id": "ae69cb5b",
   "metadata": {
    "scrolled": true
   },
   "outputs": [
    {
     "data": {
      "text/html": [
       "<div>\n",
       "<style scoped>\n",
       "    .dataframe tbody tr th:only-of-type {\n",
       "        vertical-align: middle;\n",
       "    }\n",
       "\n",
       "    .dataframe tbody tr th {\n",
       "        vertical-align: top;\n",
       "    }\n",
       "\n",
       "    .dataframe thead th {\n",
       "        text-align: right;\n",
       "    }\n",
       "</style>\n",
       "<table border=\"1\" class=\"dataframe\">\n",
       "  <thead>\n",
       "    <tr style=\"text-align: right;\">\n",
       "      <th></th>\n",
       "      <th>step</th>\n",
       "      <th>type</th>\n",
       "      <th>amount</th>\n",
       "      <th>nameOrig</th>\n",
       "      <th>oldbalanceOrg</th>\n",
       "      <th>newbalanceOrig</th>\n",
       "      <th>nameDest</th>\n",
       "      <th>oldbalanceDest</th>\n",
       "      <th>newbalanceDest</th>\n",
       "      <th>isFraud</th>\n",
       "      <th>isFlaggedFraud</th>\n",
       "    </tr>\n",
       "  </thead>\n",
       "  <tbody>\n",
       "    <tr>\n",
       "      <th>0</th>\n",
       "      <td>1</td>\n",
       "      <td>PAYMENT</td>\n",
       "      <td>9839.64</td>\n",
       "      <td>C1231006815</td>\n",
       "      <td>170136.0</td>\n",
       "      <td>160296.36</td>\n",
       "      <td>M1979787155</td>\n",
       "      <td>0.0</td>\n",
       "      <td>0.0</td>\n",
       "      <td>0</td>\n",
       "      <td>0</td>\n",
       "    </tr>\n",
       "    <tr>\n",
       "      <th>1</th>\n",
       "      <td>1</td>\n",
       "      <td>PAYMENT</td>\n",
       "      <td>1864.28</td>\n",
       "      <td>C1666544295</td>\n",
       "      <td>21249.0</td>\n",
       "      <td>19384.72</td>\n",
       "      <td>M2044282225</td>\n",
       "      <td>0.0</td>\n",
       "      <td>0.0</td>\n",
       "      <td>0</td>\n",
       "      <td>0</td>\n",
       "    </tr>\n",
       "    <tr>\n",
       "      <th>2</th>\n",
       "      <td>1</td>\n",
       "      <td>TRANSFER</td>\n",
       "      <td>181.00</td>\n",
       "      <td>C1305486145</td>\n",
       "      <td>181.0</td>\n",
       "      <td>0.00</td>\n",
       "      <td>C553264065</td>\n",
       "      <td>0.0</td>\n",
       "      <td>0.0</td>\n",
       "      <td>1</td>\n",
       "      <td>0</td>\n",
       "    </tr>\n",
       "    <tr>\n",
       "      <th>3</th>\n",
       "      <td>1</td>\n",
       "      <td>CASH_OUT</td>\n",
       "      <td>181.00</td>\n",
       "      <td>C840083671</td>\n",
       "      <td>181.0</td>\n",
       "      <td>0.00</td>\n",
       "      <td>C38997010</td>\n",
       "      <td>21182.0</td>\n",
       "      <td>0.0</td>\n",
       "      <td>1</td>\n",
       "      <td>0</td>\n",
       "    </tr>\n",
       "    <tr>\n",
       "      <th>4</th>\n",
       "      <td>1</td>\n",
       "      <td>PAYMENT</td>\n",
       "      <td>11668.14</td>\n",
       "      <td>C2048537720</td>\n",
       "      <td>41554.0</td>\n",
       "      <td>29885.86</td>\n",
       "      <td>M1230701703</td>\n",
       "      <td>0.0</td>\n",
       "      <td>0.0</td>\n",
       "      <td>0</td>\n",
       "      <td>0</td>\n",
       "    </tr>\n",
       "  </tbody>\n",
       "</table>\n",
       "</div>"
      ],
      "text/plain": [
       "   step      type    amount     nameOrig  oldbalanceOrg  newbalanceOrig  \\\n",
       "0     1   PAYMENT   9839.64  C1231006815       170136.0       160296.36   \n",
       "1     1   PAYMENT   1864.28  C1666544295        21249.0        19384.72   \n",
       "2     1  TRANSFER    181.00  C1305486145          181.0            0.00   \n",
       "3     1  CASH_OUT    181.00   C840083671          181.0            0.00   \n",
       "4     1   PAYMENT  11668.14  C2048537720        41554.0        29885.86   \n",
       "\n",
       "      nameDest  oldbalanceDest  newbalanceDest  isFraud  isFlaggedFraud  \n",
       "0  M1979787155             0.0             0.0        0               0  \n",
       "1  M2044282225             0.0             0.0        0               0  \n",
       "2   C553264065             0.0             0.0        1               0  \n",
       "3    C38997010         21182.0             0.0        1               0  \n",
       "4  M1230701703             0.0             0.0        0               0  "
      ]
     },
     "execution_count": 4,
     "metadata": {},
     "output_type": "execute_result"
    }
   ],
   "source": [
    "df.head()"
   ]
  },
  {
   "cell_type": "code",
   "execution_count": 5,
   "id": "7cafc40d",
   "metadata": {},
   "outputs": [
    {
     "name": "stdout",
     "output_type": "stream",
     "text": [
      "\n",
      "Fraud distribution:\n",
      "0    6354407\n",
      "1       8213\n",
      "Name: isFraud, dtype: int64\n",
      "\n",
      "Fraud percentage: 0.129%\n"
     ]
    }
   ],
   "source": [
    "# Check class distribution\n",
    "print(\"\\nFraud distribution:\")\n",
    "print(df['isFraud'].value_counts())\n",
    "print(f\"\\nFraud percentage: {df['isFraud'].mean() * 100:.3f}%\")"
   ]
  },
  {
   "cell_type": "code",
   "execution_count": 6,
   "id": "29cb5602",
   "metadata": {},
   "outputs": [],
   "source": [
    "# Create new features\n",
    "def create_features(df):\n",
    "    data = df.copy()\n",
    "    \n",
    "    le = LabelEncoder()\n",
    "    data['type_encoded'] = le.fit_transform(data['type'])\n",
    "    \n",
    "    # Create dummy variables for transaction types\n",
    "    type_dummies = pd.get_dummies(data['type'], prefix='type')\n",
    "    data = pd.concat([data, type_dummies], axis=1)\n",
    "    \n",
    "    # Amount features\n",
    "    data['amount_log'] = np.log1p(data['amount'])\n",
    "    \n",
    "    # Balance features\n",
    "    data['orgBalanceDiff'] = data['oldbalanceOrg'] - data['newbalanceOrig']\n",
    "    data['destBalanceDiff'] = data['newbalanceDest'] - data['oldbalanceDest']\n",
    "    \n",
    "    # Zero balance indicators\n",
    "    data['orgBalanceBecomesZero'] = ((data['newbalanceOrig'] == 0) & \n",
    "                                    (data['oldbalanceOrg'] > 0)).astype(int)\n",
    "    data['destBalanceBecomesZero'] = ((data['newbalanceDest'] == 0) & \n",
    "                                     (data['oldbalanceDest'] > 0)).astype(int)\n",
    "    \n",
    "    # Amount to balance ratios\n",
    "    data['amountToOrgBalanceRatio'] = data['amount'] / (data['oldbalanceOrg'] + 1)\n",
    "    \n",
    "    return data\n",
    "\n",
    "# Process data\n",
    "processed_df = create_features(df)"
   ]
  },
  {
   "cell_type": "code",
   "execution_count": 7,
   "id": "eb6b5a13",
   "metadata": {},
   "outputs": [],
   "source": [
    "# Drop unnecessary columns\n",
    "cols_to_drop = ['nameOrig', 'nameDest', 'type', 'isFlaggedFraud']\n",
    "processed_df = processed_df.drop(cols_to_drop, axis=1)"
   ]
  },
  {
   "cell_type": "code",
   "execution_count": 8,
   "id": "1a1acca4",
   "metadata": {},
   "outputs": [
    {
     "name": "stdout",
     "output_type": "stream",
     "text": [
      "Training samples: 4453834\n",
      "Testing samples: 1908786\n",
      "Class distribution in training set: [4448085    5749]\n"
     ]
    }
   ],
   "source": [
    "# Split features and target\n",
    "X = processed_df.drop(['isFraud'], axis=1)\n",
    "y = processed_df['isFraud']\n",
    "\n",
    "# Split data into train and test sets\n",
    "X_train, X_test, y_train, y_test = train_test_split(\n",
    "    X, y, test_size=0.3, random_state=RANDOM_STATE, stratify=y\n",
    ")\n",
    "\n",
    "print(f\"Training samples: {X_train.shape[0]}\")\n",
    "print(f\"Testing samples: {X_test.shape[0]}\")\n",
    "\n",
    "# Scale features\n",
    "scaler = StandardScaler()\n",
    "X_train_scaled = scaler.fit_transform(X_train)\n",
    "X_test_scaled = scaler.transform(X_test)\n",
    "\n",
    "# Print class distribution\n",
    "print(f\"Class distribution in training set: {np.bincount(y_train)}\")"
   ]
  },
  {
   "cell_type": "code",
   "execution_count": 9,
   "id": "15422937",
   "metadata": {},
   "outputs": [],
   "source": [
    "# Function to evaluate models\n",
    "def evaluate_model(model, X_train, y_train, X_test, y_test, model_name):\n",
    "    # Train the model\n",
    "    model.fit(X_train, y_train)\n",
    "    \n",
    "    # Make predictions\n",
    "    y_pred = model.predict(X_test)\n",
    "    y_prob = model.predict_proba(X_test)[:, 1] if hasattr(model, \"predict_proba\") else None\n",
    "    \n",
    "    # Calculate metrics\n",
    "    accuracy = accuracy_score(y_test, y_pred)\n",
    "    precision = precision_score(y_test, y_pred)\n",
    "    recall = recall_score(y_test, y_pred)\n",
    "    f1 = f1_score(y_test, y_pred)\n",
    "    roc_auc = roc_auc_score(y_test, y_prob) if y_prob is not None else None\n",
    "    \n",
    "    # Print results\n",
    "    print(f\"\\n{model_name} Results:\")\n",
    "    print(f\"Accuracy: {accuracy:.4f}\")\n",
    "    print(f\"Precision: {precision:.4f}\")\n",
    "    print(f\"Recall: {recall:.4f}\")\n",
    "    print(f\"F1 Score: {f1:.4f}\")\n",
    "    if roc_auc:\n",
    "        print(f\"ROC AUC: {roc_auc:.4f}\")\n",
    "    \n",
    "    # Show confusion matrix\n",
    "    cm = confusion_matrix(y_test, y_pred)\n",
    "    print(\"\\nConfusion Matrix:\")\n",
    "    print(cm)\n",
    "    \n",
    "    # Return results\n",
    "    return {\n",
    "        'model': model,\n",
    "        'name': model_name,\n",
    "        'accuracy': accuracy,\n",
    "        'precision': precision,\n",
    "        'recall': recall,\n",
    "        'f1': f1,\n",
    "        'roc_auc': roc_auc,\n",
    "        'predictions': y_pred,\n",
    "        'probabilities': y_prob\n",
    "    }\n",
    "\n",
    "# Set up models with best parameters\n",
    "# Note the increased class_weight and scale_pos_weight to handle imbalance\n",
    "models = {\n",
    "    'Random Forest': RandomForestClassifier(\n",
    "        n_estimators=100,\n",
    "        max_depth=10,\n",
    "        class_weight={0:1, 1:20},  # Higher weight for minority class\n",
    "        random_state=RANDOM_STATE\n",
    "    ),\n",
    "    'XGBoost': XGBClassifier(\n",
    "        learning_rate=0.1,\n",
    "        n_estimators=100,\n",
    "        max_depth=5,\n",
    "        scale_pos_weight=20,  # Higher weight for minority class\n",
    "        random_state=RANDOM_STATE\n",
    "    ),\n",
    "    'KNN': KNeighborsClassifier(\n",
    "        n_neighbors=5,\n",
    "        weights='distance'\n",
    "    )\n",
    "#     'SVM': SVC(\n",
    "#         C=10,\n",
    "#         kernel='rbf',\n",
    "#         probability=True,\n",
    "#         class_weight={0:1, 1:20},  # Higher weight for minority class\n",
    "#         random_state=RANDOM_STATE\n",
    "#     ), # Getting rid of this as it takes too long\n",
    "    \n",
    "}"
   ]
  },
  {
   "cell_type": "code",
   "execution_count": 10,
   "id": "a8ac4963",
   "metadata": {},
   "outputs": [
    {
     "name": "stdout",
     "output_type": "stream",
     "text": [
      "\n",
      "Random Forest Results:\n",
      "Accuracy: 0.9996\n",
      "Precision: 0.8701\n",
      "Recall: 0.8206\n",
      "F1 Score: 0.8446\n",
      "ROC AUC: 0.9991\n",
      "\n",
      "Confusion Matrix:\n",
      "[[1906020     302]\n",
      " [    442    2022]]\n",
      "\n",
      "XGBoost Results:\n",
      "Accuracy: 0.9987\n",
      "Precision: 0.5015\n",
      "Recall: 0.9903\n",
      "F1 Score: 0.6658\n",
      "ROC AUC: 0.9997\n",
      "\n",
      "Confusion Matrix:\n",
      "[[1903897    2425]\n",
      " [     24    2440]]\n",
      "\n",
      "KNN Results:\n",
      "Accuracy: 0.9996\n",
      "Precision: 0.9337\n",
      "Recall: 0.7435\n",
      "F1 Score: 0.8278\n",
      "ROC AUC: 0.9297\n",
      "\n",
      "Confusion Matrix:\n",
      "[[1906192     130]\n",
      " [    632    1832]]\n"
     ]
    }
   ],
   "source": [
    "# Train and evaluate each model\n",
    "results = []\n",
    "for name, model in models.items():\n",
    "    result = evaluate_model(model, X_train_scaled, y_train, X_test_scaled, y_test, name)\n",
    "    results.append(result)"
   ]
  },
  {
   "cell_type": "code",
   "execution_count": null,
   "id": "2691f74f",
   "metadata": {},
   "outputs": [],
   "source": []
  }
 ],
 "metadata": {
  "kernelspec": {
   "display_name": "Python 3",
   "language": "python",
   "name": "python3"
  },
  "language_info": {
   "codemirror_mode": {
    "name": "ipython",
    "version": 3
   },
   "file_extension": ".py",
   "mimetype": "text/x-python",
   "name": "python",
   "nbconvert_exporter": "python",
   "pygments_lexer": "ipython3",
   "version": "3.8.8"
  }
 },
 "nbformat": 4,
 "nbformat_minor": 5
}
